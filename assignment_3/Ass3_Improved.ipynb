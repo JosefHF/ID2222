{
 "cells": [
  {
   "cell_type": "code",
   "execution_count": 49,
   "metadata": {},
   "outputs": [
    {
     "name": "stdout",
     "output_type": "stream",
     "text": [
      "t: 28815 The number of triangles are: 159585.08545454542\n"
     ]
    }
   ],
   "source": [
    "import random  \n",
    "import operator\n",
    "\n",
    "def flippedBiasedCoin(M,t):\n",
    "    hot=random.choices(population = [\"h\",\"t\"], weights=[M/t,1-(M/t)])\n",
    "#     if hot[0] == \"h\":\n",
    "#         print(M,t)\n",
    "    return hot[0]          \n",
    "            \n",
    "            \n",
    "def sampleEdge(edge,t,M):\n",
    "    if t<=M:\n",
    "        return True\n",
    "    elif flippedBiasedCoin(M,t)==\"h\":\n",
    "        random_edge = random.sample(S,1)[0]\n",
    "        S.remove(random_edge)\n",
    "        #updateCounters(operator.sub, random_edge)\n",
    "        return True\n",
    "    else:\n",
    "        return False\n",
    "\n",
    "def updateCounters(operator,edge):\n",
    "    global tau, S\n",
    "    u=edge[0]\n",
    "    v=edge[1]\n",
    "    #u = edge.split(\"-\")[0]\n",
    "    #v = edge.split(\"-\")[1]\n",
    "    nu = set()\n",
    "    nv = set()\n",
    "    #Alla neighbours\n",
    "    for elem in S:\n",
    "        if u == elem[0]:\n",
    "            nu.add(elem[1])\n",
    "        if u == elem[1]:\n",
    "            nu.add(elem[0])\n",
    "        if v == elem[0]:\n",
    "            nv.add(elem[1])\n",
    "        if v == elem[1]:\n",
    "            nv.add(elem[0])\n",
    "    #Loopa igenom alla snitten av neighbours till u och v        \n",
    "    #print(nu.intersection(nv))\n",
    "    n = (t-1)*(t-2)\n",
    "    n_t = n/(M*(M-1))\n",
    "    if n_t < 1:\n",
    "        n_t = 1\n",
    "    for c in nu.intersection(nv): \n",
    "        tau = operator(tau,n_t)\n",
    "        tau_count[c] = operator(int(tau_count.get(c) or 0),n_t)\n",
    "        tau_count[u] = operator(int(tau_count.get(u) or 0),n_t)\n",
    "        tau_count[v] = operator(int(tau_count.get(v) or 0),n_t)\n",
    "\n",
    "M = 100\n",
    "t=0\n",
    "tau=0\n",
    "tau_count = {}\n",
    "S = set()    \n",
    "\n",
    "with open(\"ca-GrQc.txt\",\"r\") as file:\n",
    "    for line in file:\n",
    "        if \"#\" in line:\n",
    "            continue\n",
    "        else:\n",
    "            edge = tuple(line.replace(\"\\n\",\"\").split(\"\\t\"))\n",
    "            if int(edge[0]) > int(edge[1]):\n",
    "                edge = tuple([edge[1],edge[0]])\n",
    "                \n",
    "            if edge in S or edge[0] == edge[1]:\n",
    "                continue\n",
    "            else:\n",
    "                t+=1\n",
    "                #if t % 1000 == 0:\n",
    "                #    print(\"t:\",t,\"tau:\", tau)\n",
    "                updateCounters(operator.add,edge)\n",
    "                if sampleEdge(edge,t,M):\n",
    "                    S.add(edge)\n",
    "print(\"t:\",t,\"The number of triangles are:\", tau)"
   ]
  },
  {
   "cell_type": "code",
   "execution_count": null,
   "metadata": {},
   "outputs": [],
   "source": []
  },
  {
   "cell_type": "code",
   "execution_count": null,
   "metadata": {},
   "outputs": [],
   "source": []
  }
 ],
 "metadata": {
  "kernelspec": {
   "display_name": "Python 3",
   "language": "python",
   "name": "python3"
  },
  "language_info": {
   "codemirror_mode": {
    "name": "ipython",
    "version": 3
   },
   "file_extension": ".py",
   "mimetype": "text/x-python",
   "name": "python",
   "nbconvert_exporter": "python",
   "pygments_lexer": "ipython3",
   "version": "3.8.3"
  }
 },
 "nbformat": 4,
 "nbformat_minor": 4
}
