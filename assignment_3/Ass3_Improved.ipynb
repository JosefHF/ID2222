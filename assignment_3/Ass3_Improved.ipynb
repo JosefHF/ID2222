{
 "cells": [
  {
   "cell_type": "code",
   "execution_count": 1,
   "metadata": {},
   "outputs": [],
   "source": [
    "import random  \n",
    "import operator\n",
    "from pyspark import SparkContext, SparkConf\n",
    "import numpy as np\n",
    "\n",
    "\n",
    "#Configure pyspark\n",
    "conf = SparkConf().setMaster(\"local[*]\")\n",
    "sc = SparkContext(conf=conf)\n",
    "\n"
   ]
  },
  {
   "cell_type": "code",
   "execution_count": 2,
   "metadata": {},
   "outputs": [],
   "source": [
    "class Triest_improved():\n",
    "    def __init__(self, M):\n",
    "        self.S = set()\n",
    "        self.t = 0\n",
    "        self.tau = 0\n",
    "        self.tau_count = {}\n",
    "        self.M = M\n",
    "        \n",
    "    def flippedBiasedCoin(self):\n",
    "        hot=random.choices(population = [\"heads\",\"tail\"], weights=[self.M/self.t,1-(self.M/self.t)])\n",
    "        return hot[0]          \n",
    "            \n",
    "            \n",
    "    def sampleEdge(self,edge):\n",
    "        if self.t<=self.M:\n",
    "            return True\n",
    "        elif self.flippedBiasedCoin()==\"heads\":\n",
    "            random_edge = random.sample(self.S,1)[0]\n",
    "            self.S.remove(random_edge)\n",
    "            #self.updateCounters(operator.sub, random_edge)\n",
    "            return True\n",
    "        else:\n",
    "            return False\n",
    "\n",
    "    def updateCounters(self,operator,edge):\n",
    "        u=edge[0]\n",
    "        v=edge[1]\n",
    "        #u = edge.split(\"-\")[0]\n",
    "        #v = edge.split(\"-\")[1]\n",
    "        nu = set()\n",
    "        nv = set()\n",
    "        #Alla neighbours\n",
    "        #rdd = sc.parallelize(self.S)\n",
    "        #nu = set(rdd.filter(lambda x: x[0] == u or x[1] == u ).map(lambda x: x[0] if x[1] == u else x[1]).collect())\n",
    "        #nv = set(rdd.filter(lambda x: x[0] == v or x[1] == v ).map(lambda x: x[0] if x[1] == v else x[1]).collect())\n",
    "        nu = set([elem[0] if elem[0] == u else elem[1] for elem in self.S if (elem[0] == u or elem[1] == u)])\n",
    "        nv = set([elem[0] if elem[0] == v else elem[1] for elem in self.S if (elem[0] == v or elem[1] == v)])\n",
    "        #nv = [elem[0] for elem in self.S if elem[0] == v elif elem[1] if elem[1] == v]\n",
    "        #for elem in self.S:\n",
    "        #    if u == elem[0]:\n",
    "        #        nu.add(elem[1])\n",
    "        #    if u == elem[1]:\n",
    "        #        nu.add(elem[0])\n",
    "        #    if v == elem[0]:\n",
    "        #        nv.add(elem[1])\n",
    "        #    if v == elem[1]:\n",
    "        #        nv.add(elem[0])\n",
    "        #Loopa igenom alla snitten av neighbours till u och v        \n",
    "        #print(nu.intersection(nv))\n",
    "        n = (self.t-1)*(self.t-2)\n",
    "        n_t = n/(self.M*(self.M-1))\n",
    "        if n_t < 1:\n",
    "            n_t = 1\n",
    "        for c in nu.intersection(nv):\n",
    "            self.tau = operator(self.tau,n_t)\n",
    "            self.tau_count[c] = operator(int(self.tau_count.get(c) or 0),n_t)\n",
    "            self.tau_count[u] = operator(int(self.tau_count.get(u) or 0),n_t)\n",
    "            self.tau_count[v] = operator(int(self.tau_count.get(v) or 0),n_t)\n",
    "    def start(self, dataset):\n",
    "        for edge in dataset:\n",
    "            self.t = self.t + 1\n",
    "            if self.t % 2000 == 0:\n",
    "                print(\"t:\",self.t,\"tau:\",self.tau)\n",
    "            self.updateCounters(operator.add,edge)\n",
    "            if self.sampleEdge(edge):\n",
    "                self.S.add(edge)  \n",
    "        #return self.tau\n"
   ]
  },
  {
   "cell_type": "code",
   "execution_count": 3,
   "metadata": {},
   "outputs": [],
   "source": [
    "\n",
    "rdd = sc.textFile(\"web-NotreDame.txt\")\n",
    "dataset = rdd.filter(lambda line: \"#\" not in line) \\\n",
    "             .map(lambda line: tuple([int(x) for x in line.split('\\t')])) \\\n",
    "             .map(lambda edge: edge[::-1] if edge[0] > edge[1] else edge) \\\n",
    "             .filter(lambda edge: edge[0] != edge[1]).distinct()"
   ]
  },
  {
   "cell_type": "code",
   "execution_count": 4,
   "metadata": {},
   "outputs": [
    {
     "name": "stdout",
     "output_type": "stream",
     "text": [
      "The number of triangles are: PythonRDD[7] at RDD at PythonRDD.scala:53\n"
     ]
    }
   ],
   "source": [
    "impr = Triest_improved(dataset.count())\n",
    "print(\"The number of triangles are:\", dataset.map(impr.start))\n"
   ]
  },
  {
   "cell_type": "code",
   "execution_count": null,
   "metadata": {},
   "outputs": [],
   "source": []
  }
 ],
 "metadata": {
  "kernelspec": {
   "display_name": "Python 3",
   "language": "python",
   "name": "python3"
  },
  "language_info": {
   "codemirror_mode": {
    "name": "ipython",
    "version": 3
   },
   "file_extension": ".py",
   "mimetype": "text/x-python",
   "name": "python",
   "nbconvert_exporter": "python",
   "pygments_lexer": "ipython3",
   "version": "3.8.3"
  }
 },
 "nbformat": 4,
 "nbformat_minor": 4
}
