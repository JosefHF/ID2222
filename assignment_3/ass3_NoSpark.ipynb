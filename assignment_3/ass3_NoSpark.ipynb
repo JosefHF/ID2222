{
 "cells": [
  {
   "cell_type": "code",
   "execution_count": 17,
   "metadata": {},
   "outputs": [
    {
     "name": "stdout",
     "output_type": "stream",
     "text": [
      "t: 1000 tau: 296\n",
      "t: 2000 tau: 609\n",
      "t: 3000 tau: 1190\n",
      "t: 4000 tau: 1956\n",
      "t: 5000 tau: 3315\n",
      "t: 6000 tau: 5372\n",
      "t: 7000 tau: 5905\n",
      "t: 8000 tau: 7503\n",
      "t: 9000 tau: 7764\n",
      "t: 10000 tau: 7825\n",
      "t: 11000 tau: 7825\n",
      "t: 12000 tau: 8754\n",
      "t: 13000 tau: 9154\n",
      "t: 14000 tau: 10345\n",
      "t: 15000 tau: 11148\n",
      "t: 16000 tau: 11166\n",
      "t: 17000 tau: 11178\n",
      "t: 18000 tau: 11190\n",
      "t: 19000 tau: 11198\n",
      "t: 20000 tau: 11795\n",
      "The number of triangles are: 11801.0\n"
     ]
    }
   ],
   "source": [
    "import random  \n",
    "import operator\n",
    "M = 20000\n",
    "t=0\n",
    "tau=0\n",
    "tau_count = {}\n",
    "S = set()\n",
    "\n",
    "def flippedBiasedCoin(M,t):\n",
    "    hot=random.choices(population = [\"h\",\"t\"], weights=[M/t,1-(M/t)])\n",
    "#     if hot[0] == \"h\":\n",
    "#         print(M,t)\n",
    "    return hot[0]          \n",
    "            \n",
    "            \n",
    "def sampleEdge(edge,t,M):\n",
    "    if t<=M:\n",
    "        return True\n",
    "    elif flippedBiasedCoin(M,t)==\"h\":\n",
    "        random_edge = random.sample(S,1)[0]\n",
    "        S.remove(random_edge)\n",
    "        updateCounters(operator.sub, random_edge)\n",
    "        return True\n",
    "    else:\n",
    "        return False\n",
    "\n",
    "def updateCounters(operator,edge):\n",
    "    global tau, S\n",
    "    #u=edge[0]\n",
    "    #v=edge[1]\n",
    "    u = edge.split(\"-\")[0]\n",
    "    v = edge.split(\"-\")[1]\n",
    "    nu = set()\n",
    "    nv = set()\n",
    "    #Alla neighbours\n",
    "    for elem in S:\n",
    "        if int(u) == int(elem.split(\"-\")[0]):\n",
    "            nu.add(elem.split(\"-\")[1])\n",
    "        if int(u) == int(elem.split(\"-\")[1]):\n",
    "            nu.add(elem.split(\"-\")[0])\n",
    "        if int(v) == int(elem.split(\"-\")[0]):\n",
    "            nv.add(elem.split(\"-\")[1])\n",
    "        if int(v) == int(elem.split(\"-\")[1]):\n",
    "            nv.add(elem.split(\"-\")[0])\n",
    "    #Loopa igenom alla snitten av neighbours till u och v        \n",
    "    #print(nu.intersection(nv))\n",
    "    for c in nu.intersection(nv):\n",
    "        tau = operator(tau,1)\n",
    "        tau_count[c] = operator(int(tau_count.get(c) or 0),1)\n",
    "        tau_count[u] = operator(int(tau_count.get(u) or 0),1)\n",
    "        tau_count[v] = operator(int(tau_count.get(v) or 0),1)\n",
    "        \n",
    "    #print(tau)\n",
    "    \n",
    "with open(\"web-NotreDame.txt\") as file:\n",
    "    for line in file:\n",
    "        if \"#\" in line:\n",
    "            continue\n",
    "        else:\n",
    "            edge = line.replace(\"\\n\",\"\").split(\"\\t\")\n",
    "            t+=1\n",
    "            if t % 1000 == 0:\n",
    "                print(\"t:\",t,\"tau:\", tau)\n",
    "            if sampleEdge(edge,t,M):\n",
    "                if not str(edge[0]+\"-\"+edge[1]) in S and not str(edge[1]+\"-\"+edge[0]) in S:\n",
    "                    if not edge[0] == edge[1]:\n",
    "                        if int(edge[0]) > int(edge[1]):\n",
    "                            S.add(edge[1]+\"-\"+edge[0])\n",
    "                            updateCounters(operator.add,edge[1]+\"-\"+edge[0])\n",
    "                        else:\n",
    "                            S.add(edge[0]+\"-\"+edge[1])\n",
    "                            updateCounters(operator.add,edge[0]+\"-\"+edge[1])\n",
    "                        \n",
    "            if t == 20000:\n",
    "                break;\n",
    "    eps = (t*(t-1)*(t-2))/(M*(M-1)*(M-2))\n",
    "    if eps < 1:\n",
    "        eps = 1\n",
    "print(\"The number of triangles are:\", tau * eps)"
   ]
  },
  {
   "cell_type": "code",
   "execution_count": 1,
   "metadata": {},
   "outputs": [
    {
     "ename": "SyntaxError",
     "evalue": "invalid syntax (<ipython-input-1-f2c5a9fc90e0>, line 1)",
     "output_type": "error",
     "traceback": [
      "\u001b[0;36m  File \u001b[0;32m\"<ipython-input-1-f2c5a9fc90e0>\"\u001b[0;36m, line \u001b[0;32m1\u001b[0m\n\u001b[0;31m    t: 1000 tau: 197\u001b[0m\n\u001b[0m            ^\u001b[0m\n\u001b[0;31mSyntaxError\u001b[0m\u001b[0;31m:\u001b[0m invalid syntax\n"
     ]
    }
   ],
   "source": [
    "M = 10000 -> The number of triangles are: 9153.373074614921"
   ]
  },
  {
   "cell_type": "code",
   "execution_count": null,
   "metadata": {},
   "outputs": [],
   "source": []
  },
  {
   "cell_type": "code",
   "execution_count": null,
   "metadata": {},
   "outputs": [],
   "source": []
  }
 ],
 "metadata": {
  "kernelspec": {
   "display_name": "Python 3",
   "language": "python",
   "name": "python3"
  },
  "language_info": {
   "codemirror_mode": {
    "name": "ipython",
    "version": 3
   },
   "file_extension": ".py",
   "mimetype": "text/x-python",
   "name": "python",
   "nbconvert_exporter": "python",
   "pygments_lexer": "ipython3",
   "version": "3.8.3"
  }
 },
 "nbformat": 4,
 "nbformat_minor": 4
}
