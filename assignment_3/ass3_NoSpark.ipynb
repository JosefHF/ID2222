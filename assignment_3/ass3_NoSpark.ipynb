{
 "cells": [
  {
   "cell_type": "code",
   "execution_count": 1,
   "metadata": {},
   "outputs": [],
   "source": [
    "import random  \n",
    "import operator\n",
    "M = 50000\n",
    "t=0\n",
    "tau=0\n",
    "tau_count = {}\n",
    "S = set()\n",
    "\n",
    "def flippedBiasedCoin(M,t):\n",
    "    hot=random.choices(population = [\"h\",\"t\"], weights=[M/t,1-(M/t)])\n",
    "#     if hot[0] == \"h\":\n",
    "#         print(M,t)\n",
    "    return hot[0]          \n",
    "            \n",
    "            \n",
    "def sampleEdge(edge,t,M):\n",
    "    if t<=M:\n",
    "        return True\n",
    "    elif flippedBiasedCoin(M,t)==\"h\":\n",
    "        random_edge = random.sample(S,1)\n",
    "        S.remove(random_edge[0])\n",
    "        updateCounters(operator.sub, edge)\n",
    "        return True\n",
    "    else:\n",
    "        return False\n",
    "\n",
    "def updateCounters(operator,edge):\n",
    "    global tau\n",
    "    u=edge[0]\n",
    "    v=edge[1]\n",
    "    nu = set()\n",
    "    nv = set()\n",
    "    #Alla neighbours\n",
    "    for elem in S:\n",
    "        if u == elem.split(\"-\")[0]:\n",
    "            nu.add(elem.split(\"-\")[1])\n",
    "        if u == elem.split(\"-\")[1]:\n",
    "            nu.add(elem.split(\"-\")[0])\n",
    "        if v == elem.split(\"-\")[0]:\n",
    "            nv.add(elem.split(\"-\")[1])\n",
    "        if v == elem.split(\"-\")[1]:\n",
    "            nv.add(elem.split(\"-\")[0])\n",
    "    #Loopa igenom alla snitten av neighbours till u och v        \n",
    "    for c in nu.intersection(nv):\n",
    "        tau=operator(tau,1)\n",
    "        tau_count[c] = operator(int(tau_count.get(c) or 0),1)\n",
    "        tau_count[u] = operator(int(tau_count.get(u) or 0),1)\n",
    "        tau_count[v] = operator(int(tau_count.get(v) or 0),1)\n",
    "        \n",
    "        \n",
    "    \n",
    "with open(\"web-NotreDame.txt\") as file:\n",
    "    for line in file:\n",
    "        if \"#\" in line:\n",
    "            continue\n",
    "        else:\n",
    "            edge = line.replace(\"\\n\",\"\").split(\"\\t\")\n",
    "            t+=1\n",
    "            if sampleEdge(edge,t,M):\n",
    "                if int(edge[0]) > int(edge[1]):\n",
    "                    S.add(edge[1]+\"-\"+edge[0])\n",
    "                else:\n",
    "                    S.add(edge[0]+\"-\"+edge[1])\n",
    "                updateCounters(operator.add,edge)\n",
    "            \n",
    "            "
   ]
  },
  {
   "cell_type": "code",
   "execution_count": 2,
   "metadata": {},
   "outputs": [
    {
     "name": "stdout",
     "output_type": "stream",
     "text": [
      "1538\n"
     ]
    }
   ],
   "source": [
    "print(tau)"
   ]
  },
  {
   "cell_type": "code",
   "execution_count": null,
   "metadata": {},
   "outputs": [],
   "source": []
  },
  {
   "cell_type": "code",
   "execution_count": null,
   "metadata": {},
   "outputs": [],
   "source": []
  },
  {
   "cell_type": "code",
   "execution_count": null,
   "metadata": {},
   "outputs": [],
   "source": []
  }
 ],
 "metadata": {
  "kernelspec": {
   "display_name": "Python 3",
   "language": "python",
   "name": "python3"
  },
  "language_info": {
   "codemirror_mode": {
    "name": "ipython",
    "version": 3
   },
   "file_extension": ".py",
   "mimetype": "text/x-python",
   "name": "python",
   "nbconvert_exporter": "python",
   "pygments_lexer": "ipython3",
   "version": "3.8.3"
  }
 },
 "nbformat": 4,
 "nbformat_minor": 4
}
