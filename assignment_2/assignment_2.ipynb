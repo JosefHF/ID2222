{
 "cells": [
  {
   "cell_type": "code",
   "execution_count": 1,
   "metadata": {},
   "outputs": [],
   "source": [
    "from pyspark import SparkContext, SparkConf\n",
    "import numpy as np\n",
    "\n",
    "#Configure pyspark\n",
    "conf = SparkConf().setMaster(\"local[*]\")\n",
    "sc = SparkContext(conf=conf)"
   ]
  },
  {
   "cell_type": "code",
   "execution_count": 4,
   "metadata": {},
   "outputs": [
    {
     "data": {
      "text/plain": [
       "[(1, 1535), (4, 1394), (5, 1094), (6, 2149), (8, 3090)]"
      ]
     },
     "execution_count": 4,
     "metadata": {},
     "output_type": "execute_result"
    }
   ],
   "source": [
    "#Read in the text file as an RDD\n",
    "rdd = sc.textFile('T10I4D100K.dat')\n",
    "\n",
    "baskets = rdd.map(lambda line: line.split(\" \")[0:len(line.split(\" \")) - 1]).cache()\n",
    "count = baskets.count()\n",
    "flattened_baskets = baskets.flatMap(lambda line: line)\n",
    "occurences = flattened_baskets.map(lambda x: (int(x),1)).reduceByKey(lambda a,b: a+b)\n",
    "\n",
    "L1 = occurences.filter(lambda x: x[1] > count*0.01).sortByKey(True).collect()\n",
    "L1[0:5]"
   ]
  },
  {
   "cell_type": "code",
   "execution_count": 5,
   "metadata": {},
   "outputs": [
    {
     "data": {
      "text/plain": [
       "array([1., 0., 0., 1.])"
      ]
     },
     "execution_count": 5,
     "metadata": {},
     "output_type": "execute_result"
    }
   ],
   "source": [
    "#Go through L1 and find frequent items\n",
    "frequent_items = np.zeros(count + 1)\n",
    "for elem in L1:\n",
    "    frequent_items[elem[0]] = 1\n",
    "frequent_items[1:5]"
   ]
  },
  {
   "cell_type": "code",
   "execution_count": 15,
   "metadata": {},
   "outputs": [
    {
     "data": {
      "text/plain": [
       "[('25 368', 97), ('25 448', 18), ('25 630', 15), ('25 687', 12)]"
      ]
     },
     "execution_count": 15,
     "metadata": {},
     "output_type": "execute_result"
    }
   ],
   "source": [
    "def doubletons(doc):\n",
    "    pairs = []\n",
    "    for i in range(0,len(doc)-1):\n",
    "        for k in range(i+1,len(doc)-1):\n",
    "            if frequent_items[int(doc[i])] == 1 and frequent_items[int(doc[i+1])] == 1:\n",
    "                pairs.append(doc[i] + \" \" + doc[k])\n",
    "    return pairs\n",
    "L2 = baskets.map(doubletons).flatMap(lambda x: x).map(lambda x: (x,1)\n",
    "                                                             ).reduceByKey(lambda a,b: a+b)\n",
    "L2.take(5)"
   ]
  },
  {
   "cell_type": "code",
   "execution_count": null,
   "metadata": {},
   "outputs": [],
   "source": []
  }
 ],
 "metadata": {
  "kernelspec": {
   "display_name": "Python 3",
   "language": "python",
   "name": "python3"
  },
  "language_info": {
   "codemirror_mode": {
    "name": "ipython",
    "version": 3
   },
   "file_extension": ".py",
   "mimetype": "text/x-python",
   "name": "python",
   "nbconvert_exporter": "python",
   "pygments_lexer": "ipython3",
   "version": "3.8.3"
  }
 },
 "nbformat": 4,
 "nbformat_minor": 4
}
