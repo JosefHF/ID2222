{
 "cells": [
  {
   "cell_type": "code",
   "execution_count": null,
   "metadata": {},
   "outputs": [],
   "source": [
    "from pyspark import SparkContext, SparkConf\n",
    "import numpy as np\n",
    "from itertools import combinations \n",
    "\n",
    "\n",
    "#Configure pyspark\n",
    "conf = SparkConf().setMaster(\"local[*]\")\n",
    "sc = SparkContext(conf=conf)\n",
    "\n",
    "k = 2"
   ]
  },
  {
   "cell_type": "code",
   "execution_count": null,
   "metadata": {},
   "outputs": [],
   "source": [
    "#Read in the text file as an RDD\n",
    "rdd = sc.textFile('T10I4D100K.dat')\n",
    "\n",
    "#Get the baskets [[1,2,3],[2,4,1],...]\n",
    "baskets_rdd = rdd.map(lambda line: line.split(\" \")[0:len(line.split(\" \")) - 1]).cache()\n",
    "\n",
    "#Get the number of baskets\n",
    "basket_count = baskets_rdd.count()\n",
    "#Get number of items\n",
    "item_count = baskets_rdd.flatMap(lambda line: line).count()\n",
    "\n",
    "baskets = baskets_rdd.collect()"
   ]
  },
  {
   "cell_type": "code",
   "execution_count": null,
   "metadata": {},
   "outputs": [],
   "source": [
    "def apriori(baskets, baskets_rdd, basket_count, k):\n",
    "    for i in range(0,k):\n",
    "        if i==0:\n",
    "            Ck = baskets_rdd.flatMap(lambda line: line)\n",
    "            Lk = set(Ck.map(lambda x: (int(x),1)).reduceByKey(lambda a,b: a+b\n",
    "                                            ).filter(lambda x: x[1]/basket_count > 0.01\n",
    "                                            ).map(lambda x: x[0]).collect())\n",
    "            \n",
    "            \n",
    "        else:\n",
    "            Ck = []\n",
    "            for basket in baskets:\n",
    "                candidate_items = []\n",
    "                for item in basket:\n",
    "                    if int(item) in Lk:\n",
    "                        candidate_items.append(int(item))\n",
    "                candidate_pairs = combinations(candidate_items, i+1)\n",
    "                for pair in candidate_pairs:\n",
    "                    Ck.append(pair)  \n",
    "            Lk = set(sc.parallelize(Ck).map(lambda x: (x,1)).reduceByKey(lambda a,b: a+b\n",
    "                                            ).filter(lambda x: x[1]/basket_count > 0.01\n",
    "                                            ).map(lambda x: x[0]\n",
    "                                            ).flatMap(lambda x: x).collect())\n",
    "    return Lk,Ck\n",
    "Lk,Ck = apriori(baskets, baskets_rdd, basket_count, k)"
   ]
  },
  {
   "cell_type": "code",
   "execution_count": null,
   "metadata": {},
   "outputs": [],
   "source": [
    "Ck[:5]"
   ]
  },
  {
   "cell_type": "code",
   "execution_count": null,
   "metadata": {},
   "outputs": [],
   "source": [
    "Lk"
   ]
  },
  {
   "cell_type": "code",
   "execution_count": null,
   "metadata": {},
   "outputs": [],
   "source": [
    "combinationss = combinations(Lk,k-1)\n",
    "\n",
    "for comb in combinationss:\n",
    "    for elem in Lk:\n",
    "        if elem not in comb:\n",
    "            occurences_X = 0\n",
    "            occurences_XY = 0\n",
    "            for basket in baskets:\n",
    "                combination_in_basket = True\n",
    "                for item in comb:\n",
    "                    if str(item) not in basket:\n",
    "                        combination_in_basket = False\n",
    "                        break;\n",
    "                if combination_in_basket == True:\n",
    "                    if str(elem) in basket:\n",
    "                        occurences_XY += 1\n",
    "                    occurences_X += 1\n",
    "            if occurences_X == 0:\n",
    "                conf = 0\n",
    "            else:\n",
    "                conf = occurences_XY/occurences_X\n",
    "            if conf > 0.5:\n",
    "                print(comb[:len(comb)],\"->\",elem,\"confidence\",conf)"
   ]
  },
  {
   "cell_type": "code",
   "execution_count": null,
   "metadata": {},
   "outputs": [],
   "source": []
  },
  {
   "cell_type": "code",
   "execution_count": null,
   "metadata": {},
   "outputs": [],
   "source": []
  }
 ],
 "metadata": {
  "kernelspec": {
   "display_name": "Python 3",
   "language": "python",
   "name": "python3"
  },
  "language_info": {
   "codemirror_mode": {
    "name": "ipython",
    "version": 3
   },
   "file_extension": ".py",
   "mimetype": "text/x-python",
   "name": "python",
   "nbconvert_exporter": "python",
   "pygments_lexer": "ipython3",
   "version": "3.8.3"
  }
 },
 "nbformat": 4,
 "nbformat_minor": 4
}
