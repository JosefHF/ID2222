{
 "cells": [
  {
   "cell_type": "code",
   "execution_count": 1,
   "metadata": {},
   "outputs": [],
   "source": [
    "from pyspark import SparkContext, SparkConf\n",
    "\n",
    "conf = SparkConf().setMaster(\"local[*]\")\n",
    "sc = SparkContext(conf=conf)"
   ]
  },
  {
   "cell_type": "code",
   "execution_count": 27,
   "metadata": {},
   "outputs": [
    {
     "ename": "TypeError",
     "evalue": "unhashable type: 'list'",
     "output_type": "error",
     "traceback": [
      "\u001b[0;31m---------------------------------------------------------------------------\u001b[0m",
      "\u001b[0;31mTypeError\u001b[0m                                 Traceback (most recent call last)",
      "\u001b[0;32m<ipython-input-27-7a8ea37ab076>\u001b[0m in \u001b[0;36m<module>\u001b[0;34m\u001b[0m\n\u001b[1;32m     30\u001b[0m \u001b[0;34m\u001b[0m\u001b[0m\n\u001b[1;32m     31\u001b[0m \u001b[0mdocument1\u001b[0m \u001b[0;34m=\u001b[0m \u001b[0mShingling\u001b[0m\u001b[0;34m(\u001b[0m\u001b[0;34m'titanic.csv'\u001b[0m\u001b[0;34m,\u001b[0m\u001b[0;36m3\u001b[0m\u001b[0;34m)\u001b[0m\u001b[0;34m\u001b[0m\u001b[0;34m\u001b[0m\u001b[0m\n\u001b[0;32m---> 32\u001b[0;31m \u001b[0mdocument1\u001b[0m\u001b[0;34m.\u001b[0m\u001b[0mgetShinglings\u001b[0m\u001b[0;34m(\u001b[0m\u001b[0;34m)\u001b[0m\u001b[0;34m\u001b[0m\u001b[0;34m\u001b[0m\u001b[0m\n\u001b[0m",
      "\u001b[0;32m<ipython-input-27-7a8ea37ab076>\u001b[0m in \u001b[0;36mgetShinglings\u001b[0;34m(self)\u001b[0m\n\u001b[1;32m     27\u001b[0m \u001b[0;34m\u001b[0m\u001b[0m\n\u001b[1;32m     28\u001b[0m     \u001b[0;32mdef\u001b[0m \u001b[0mgetShinglings\u001b[0m\u001b[0;34m(\u001b[0m\u001b[0mself\u001b[0m\u001b[0;34m)\u001b[0m\u001b[0;34m:\u001b[0m\u001b[0;34m\u001b[0m\u001b[0;34m\u001b[0m\u001b[0m\n\u001b[0;32m---> 29\u001b[0;31m         \u001b[0;32mreturn\u001b[0m \u001b[0mset\u001b[0m\u001b[0;34m(\u001b[0m\u001b[0mself\u001b[0m\u001b[0;34m.\u001b[0m\u001b[0mshinglings\u001b[0m\u001b[0;34m)\u001b[0m\u001b[0;34m\u001b[0m\u001b[0;34m\u001b[0m\u001b[0m\n\u001b[0m\u001b[1;32m     30\u001b[0m \u001b[0;34m\u001b[0m\u001b[0m\n\u001b[1;32m     31\u001b[0m \u001b[0mdocument1\u001b[0m \u001b[0;34m=\u001b[0m \u001b[0mShingling\u001b[0m\u001b[0;34m(\u001b[0m\u001b[0;34m'titanic.csv'\u001b[0m\u001b[0;34m,\u001b[0m\u001b[0;36m3\u001b[0m\u001b[0;34m)\u001b[0m\u001b[0;34m\u001b[0m\u001b[0;34m\u001b[0m\u001b[0m\n",
      "\u001b[0;31mTypeError\u001b[0m: unhashable type: 'list'"
     ]
    }
   ],
   "source": [
    "class Shingling():\n",
    "    shinglings = []\n",
    "    rdd = []\n",
    "    k = 2\n",
    "    \n",
    "    def __init__(self, document, k):\n",
    "        self.rdd = sc.textFile(document)\n",
    "        self.k = k\n",
    "        self.shinglings = self.rdd.map(Shingling.createShinglings(self)).flatMap(lambda list: list).collect()\n",
    "\n",
    "    @staticmethod\n",
    "    def createShinglings(Shingling):\n",
    "        k = Shingling.k\n",
    "        def _createShinglings(document):\n",
    "            shingles = []\n",
    "            for i in range(0,len(document)-k+1):\n",
    "                currentShingle = document[i:i+k]\n",
    "                #Convert shingles to integer representation\n",
    "                ascii_value = sum([ord(c) for c in currentShingle])\n",
    "                #MinHash algorithm\n",
    "                hashed_ascii = (1*ascii_value + 2) % 3001\n",
    "                #Append hashed value to list\n",
    "                shingles.append(hashed_ascii)\n",
    "            return shingles\n",
    "        return _createShinglings\n",
    "\n",
    "    def getShinglings(self):\n",
    "        return set(self.shinglings)\n",
    "\n",
    "document1 = Shingling('titanic.csv',3)\n",
    "document1.getShinglings()"
   ]
  },
  {
   "cell_type": "code",
   "execution_count": null,
   "metadata": {},
   "outputs": [],
   "source": [
    "def Shingling(document, k):\n",
    "    shingles = []\n",
    "    shingles_hashed = []\n",
    "    for i in range(0,len(document)):\n",
    "        if i != len(document)-1:\n",
    "            x = document[i:i+k]\n",
    "            x = x.lower()\n",
    "            if x not in shingles:\n",
    "                shingles.append(x)\n",
    "                shingles_hashed.append(hash(x))\n",
    "        else:\n",
    "            continue\n",
    "    return shingles#,shingles_hashed\n",
    "\n",
    "#shingles, shingles_hashed = Shingling(, 2)\n",
    "\n",
    "def testfunc(s):\n",
    "    return Shingling(s, 3)\n",
    "\n",
    "rdd = sc.textFile(\"titanic.csv\")\n",
    "x = rdd.map(testfunc).flatMap(lambda list: list).collect()\n",
    "x\n",
    "\n",
    "#def CompareSets(setA,setB):\n",
    "\n",
    "#    return\n",
    "\n",
    "#def MinHashing():\n",
    "    \n",
    "#    return\n",
    "\n",
    "#def CompareSignatures():\n",
    "    \n",
    "#    return"
   ]
  },
  {
   "cell_type": "code",
   "execution_count": 21,
   "metadata": {},
   "outputs": [
    {
     "data": {
      "text/plain": [
       "197"
      ]
     },
     "execution_count": 21,
     "metadata": {},
     "output_type": "execute_result"
    }
   ],
   "source": [
    "currentShingle = \"ab\"\n",
    "    \n",
    "ascii_value = sum([ord(c) for c in currentShingle])\n",
    "hashed_ascii = (1*ascii_value + 2) % 3001\n",
    "hashed_ascii"
   ]
  },
  {
   "cell_type": "code",
   "execution_count": 9,
   "metadata": {},
   "outputs": [
    {
     "ename": "ValueError",
     "evalue": "invalid literal for int() with base 2: 'a'",
     "output_type": "error",
     "traceback": [
      "\u001b[0;31m---------------------------------------------------------------------------\u001b[0m",
      "\u001b[0;31mValueError\u001b[0m                                Traceback (most recent call last)",
      "\u001b[0;32m<ipython-input-9-7a457a36532b>\u001b[0m in \u001b[0;36m<module>\u001b[0;34m\u001b[0m\n\u001b[0;32m----> 1\u001b[0;31m \u001b[0mint\u001b[0m\u001b[0;34m(\u001b[0m\u001b[0;34m'a'\u001b[0m\u001b[0;34m,\u001b[0m\u001b[0;36m2\u001b[0m\u001b[0;34m)\u001b[0m\u001b[0;34m\u001b[0m\u001b[0;34m\u001b[0m\u001b[0m\n\u001b[0m",
      "\u001b[0;31mValueError\u001b[0m: invalid literal for int() with base 2: 'a'"
     ]
    }
   ],
   "source": []
  },
  {
   "cell_type": "code",
   "execution_count": null,
   "metadata": {},
   "outputs": [],
   "source": []
  }
 ],
 "metadata": {
  "kernelspec": {
   "display_name": "Python 3",
   "language": "python",
   "name": "python3"
  },
  "language_info": {
   "codemirror_mode": {
    "name": "ipython",
    "version": 3
   },
   "file_extension": ".py",
   "mimetype": "text/x-python",
   "name": "python",
   "nbconvert_exporter": "python",
   "pygments_lexer": "ipython3",
   "version": "3.8.3"
  }
 },
 "nbformat": 4,
 "nbformat_minor": 2
}
