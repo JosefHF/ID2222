{
 "cells": [
  {
   "cell_type": "code",
   "execution_count": 1,
   "metadata": {},
   "outputs": [],
   "source": [
    "from pyspark import SparkContext, SparkConf\n",
    "from fnvhash import fnv1a_32\n",
    "from glob import glob\n",
    "import numpy as np\n",
    "\n",
    "#Configure pyspark\n",
    "conf = SparkConf().setMaster(\"local[*]\")\n",
    "sc = SparkContext(conf=conf)\n",
    "\n",
    "#Create rdds for documents\n",
    "rdd_documents = []\n",
    "all_documents = glob('*.txt')\n",
    "for document in all_documents:\n",
    "    rdd_documents.append(sc.textFile(document))\n",
    "\n",
    "#Set the value k (the length of the shingles); k-shingles\n",
    "k = 9"
   ]
  },
  {
   "cell_type": "code",
   "execution_count": 2,
   "metadata": {},
   "outputs": [],
   "source": [
    "#Method that takes an rdd and returns a set of shingles.\n",
    "def Shingling(rdd):\n",
    "    return set(rdd.map(lambda x: [fnv1a_32(str.encode(x[i:i+k])) for i in range(0,len(x)-k+1)]).flatMap(lambda list: list).distinct().collect())\n",
    "\n",
    "#Method that takes two shingled documents and computes the Jaccard similarity\n",
    "def CompareSets(setA,setB):\n",
    "    union = len(setA.union(setB))\n",
    "    intersection = len(setA.intersection(setB))\n",
    "    return intersection/union\n"
   ]
  },
  {
   "cell_type": "code",
   "execution_count": 3,
   "metadata": {},
   "outputs": [],
   "source": [
    "#Create hashed shinglings from documents\n",
    "shingled_documents = []\n",
    "for rdd_doc in rdd_documents:\n",
    "    shingled_documents.append(Shingling(rdd_doc))\n",
    "\n",
    "#Get the Jaccard similarity\n",
    "#CompareSets(shingles_document1,shingles_document2)"
   ]
  },
  {
   "cell_type": "code",
   "execution_count": 4,
   "metadata": {},
   "outputs": [
    {
     "data": {
      "text/plain": [
       "array([[1777336321,          0,          1,          1,          0],\n",
       "       [  10223617,          0,          1,          1,          0],\n",
       "       [2160066563,          0,          1,          1,          0],\n",
       "       ...,\n",
       "       [ 252182522,          1,          0,          0,          0],\n",
       "       [1053294587,          0,          1,          1,          0],\n",
       "       [1083703295,          0,          1,          1,          0]])"
      ]
     },
     "execution_count": 4,
     "metadata": {},
     "output_type": "execute_result"
    }
   ],
   "source": [
    "#Create union\n",
    "union_shingles = set()\n",
    "for document in shingled_documents:\n",
    "    union_shingles = union_shingles.union(document)\n",
    "    \n",
    "def createSimilarityMatrix(document,union):\n",
    "    column = []\n",
    "    for shingle in union:\n",
    "        if shingle in document:\n",
    "            column.append(1)\n",
    "        else:\n",
    "            column.append(0)\n",
    "    return column\n",
    "\n",
    "matrix = list(union_shingles)\n",
    "for document in shingled_documents:\n",
    "    column = createSimilarityMatrix(document, union_shingles)\n",
    "    matrix = np.column_stack((matrix,column))\n",
    "\n",
    "matrix"
   ]
  },
  {
   "cell_type": "code",
   "execution_count": 5,
   "metadata": {},
   "outputs": [
    {
     "data": {
      "text/plain": [
       "array([1, 1, 1, 1, 1, 6, 1, 2, 1, 1, 1, 1, 1, 2, 1, 1, 2, 1, 3, 1, 1, 1,\n",
       "       1, 1, 4, 2, 2, 1, 1, 2, 1, 1, 1, 2, 1, 2, 1, 1, 1, 2, 1, 1, 3, 1,\n",
       "       5, 1, 1, 1, 1, 1, 1, 1, 3, 1, 1, 1, 1, 1, 1, 1, 1, 1, 1, 3, 1, 3,\n",
       "       4, 1, 1, 2, 1, 1, 1, 1, 2, 1, 1, 1, 2, 1, 1, 1, 4, 1, 3, 3, 1, 2,\n",
       "       2, 1, 1, 1, 1, 1, 1, 1, 1, 1, 1, 1])"
      ]
     },
     "execution_count": 5,
     "metadata": {},
     "output_type": "execute_result"
    }
   ],
   "source": [
    "def MinHash(matrix,k):\n",
    "    signature = []\n",
    "    for i in range(0,k):\n",
    "        currentSignature = []\n",
    "        np.random.shuffle(matrix)\n",
    "        for currDocument in range(1,matrix.shape[1]):\n",
    "            \n",
    "            for index in range(0,len(matrix)):\n",
    "                value = matrix[index][currDocument]\n",
    "                if value != 0:\n",
    "                    currentSignature.append(index + 1)\n",
    "                    break;\n",
    "        signature.append(currentSignature)\n",
    "    return np.array(signature)\n",
    "signatures = MinHash(matrix,100)\n",
    "signatures[:,1]"
   ]
  },
  {
   "cell_type": "code",
   "execution_count": 6,
   "metadata": {},
   "outputs": [],
   "source": [
    "def jaccardApproximation(signature1, signature2):\n",
    "    return np.sum(signature1== signature2)/signature1.shape[0]"
   ]
  },
  {
   "cell_type": "code",
   "execution_count": 7,
   "metadata": {},
   "outputs": [
    {
     "data": {
      "text/plain": [
       "array([[5, 1, 1, 9],\n",
       "       [3, 1, 1, 3],\n",
       "       [6, 1, 1, 6],\n",
       "       [6, 1, 1, 6],\n",
       "       [2, 1, 1, 2]])"
      ]
     },
     "execution_count": 7,
     "metadata": {},
     "output_type": "execute_result"
    }
   ],
   "source": [
    "signatures[:5]"
   ]
  },
  {
   "cell_type": "code",
   "execution_count": 8,
   "metadata": {},
   "outputs": [
    {
     "name": "stdout",
     "output_type": "stream",
     "text": [
      "Found two similar documents: example2.txt example2(kopia).txt Similarity: 0.97\n"
     ]
    }
   ],
   "source": [
    "def compareSignatures(signatures, threshold):\n",
    "    for i in range(0,signatures.shape[1]):\n",
    "        for k in range(i+1,signatures.shape[1]):\n",
    "            jaccardSimilarity = jaccardApproximation(signatures[:,i],signatures[:,k])\n",
    "            if jaccardSimilarity > threshold:\n",
    "                print(\"Found two similar documents:\",all_documents[i],all_documents[k],\n",
    "                     \"Similarity:\", jaccardSimilarity)\n",
    "compareSignatures(signatures, 0.8)"
   ]
  },
  {
   "cell_type": "code",
   "execution_count": null,
   "metadata": {},
   "outputs": [],
   "source": []
  }
 ],
 "metadata": {
  "kernelspec": {
   "display_name": "Python 3",
   "language": "python",
   "name": "python3"
  },
  "language_info": {
   "codemirror_mode": {
    "name": "ipython",
    "version": 3
   },
   "file_extension": ".py",
   "mimetype": "text/x-python",
   "name": "python",
   "nbconvert_exporter": "python",
   "pygments_lexer": "ipython3",
   "version": "3.8.3"
  }
 },
 "nbformat": 4,
 "nbformat_minor": 2
}
