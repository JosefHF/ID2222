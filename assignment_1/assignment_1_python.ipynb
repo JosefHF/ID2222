{
 "cells": [
  {
   "cell_type": "code",
   "execution_count": 1,
   "metadata": {},
   "outputs": [],
   "source": [
    "from pyspark import SparkContext, SparkConf\n",
    "from fnvhash import fnv1a_32\n",
    "from glob import glob\n",
    "import numpy as np\n",
    "\n",
    "#Configure pyspark\n",
    "conf = SparkConf().setMaster(\"local[*]\")\n",
    "sc = SparkContext(conf=conf)\n",
    "\n",
    "#Create rdds for documents\n",
    "rdd_documents = []\n",
    "all_documents = glob('*.txt')\n",
    "for document in all_documents:\n",
    "    rdd_documents.append(sc.textFile(document))\n",
    "\n",
    "#Set the value k (the length of the shingles); k-shingles\n",
    "k = 9"
   ]
  },
  {
   "cell_type": "code",
   "execution_count": 2,
   "metadata": {},
   "outputs": [],
   "source": [
    "#Method that takes an rdd and returns a set of shingles.\n",
    "def Shingling(rdd):\n",
    "    return set(rdd.map(lambda x: [fnv1a_32(str.encode(x[i:i+k])) for i in range(0,len(x)-k+1)]).flatMap(lambda list: list).distinct().collect())\n",
    "\n",
    "#Method that takes two shingled documents and computes the Jaccard similarity\n",
    "def CompareSets(setA,setB):\n",
    "    union = len(setA.union(setB))\n",
    "    intersection = len(setA.intersection(setB))\n",
    "    return intersection/union\n"
   ]
  },
  {
   "cell_type": "code",
   "execution_count": 3,
   "metadata": {},
   "outputs": [],
   "source": [
    "#Create hashed shinglings from documents\n",
    "shingled_documents = []\n",
    "for rdd_doc in rdd_documents:\n",
    "    shingled_documents.append(Shingling(rdd_doc))\n",
    "\n",
    "#Get the Jaccard similarity\n",
    "#CompareSets(shingles_document1,shingles_document2)"
   ]
  },
  {
   "cell_type": "code",
   "execution_count": 4,
   "metadata": {},
   "outputs": [
    {
     "data": {
      "text/plain": [
       "array([[1777336321,          0,          0,          1,          0],\n",
       "       [  10223617,          0,          0,          1,          0],\n",
       "       [2160066563,          0,          0,          1,          0],\n",
       "       ...,\n",
       "       [ 252182522,          1,          0,          1,          0],\n",
       "       [1053294587,          0,          0,          1,          0],\n",
       "       [1083703295,          0,          0,          1,          0]])"
      ]
     },
     "execution_count": 4,
     "metadata": {},
     "output_type": "execute_result"
    }
   ],
   "source": [
    "#Create union\n",
    "union_shingles = set()\n",
    "\n",
    "for document in shingled_documents:\n",
    "    union_shingles = union_shingles.union(document)\n",
    "    \n",
    "def createSimilarityMatrix(document,union):\n",
    "    column = []\n",
    "    for shingle in union:\n",
    "        if shingle in document:\n",
    "            column.append(1)\n",
    "        else:\n",
    "            column.append(0)\n",
    "    return column\n",
    "\n",
    "#Create similarity matrix\n",
    "matrix = list(union_shingles)\n",
    "\n",
    "\n",
    "for document in shingled_documents:\n",
    "    column = createSimilarityMatrix(document, union_shingles)\n",
    "    matrix = np.column_stack((matrix,column))\n",
    "\n",
    "matrix\n"
   ]
  },
  {
   "cell_type": "code",
   "execution_count": 5,
   "metadata": {},
   "outputs": [
    {
     "data": {
      "text/plain": [
       "array([[  1,  12,   1, 111],\n",
       "       [  3,   1,   1,  84],\n",
       "       [  2,   3,   1,   4],\n",
       "       [  2,   4,   1, 627],\n",
       "       [  3,   4,   1,  70],\n",
       "       [  3,   2,   1,  39],\n",
       "       [  3,   5,   1, 438],\n",
       "       [  2,   7,   1,  70],\n",
       "       [  3,   1,   1,  66],\n",
       "       [  1,   2,   1, 128],\n",
       "       [  4,  14,   1, 127],\n",
       "       [ 14,  10,   1,   8],\n",
       "       [  1,   3,   1,  98],\n",
       "       [  2,   4,   1, 368],\n",
       "       [  2,   5,   1, 380],\n",
       "       [  3,   1,   1,  90],\n",
       "       [  4,   1,   1, 270],\n",
       "       [  2,   1,   1,  65],\n",
       "       [  1,   4,   1,  61],\n",
       "       [  1,   2,   1,  12],\n",
       "       [  1,  10,   1,  95],\n",
       "       [  7,   1,   1,   4],\n",
       "       [  1,  11,   1,  54],\n",
       "       [  3,   4,   1,  43],\n",
       "       [  2,   9,   1, 170],\n",
       "       [  5,   3,   1, 106],\n",
       "       [  4,   2,   1, 613],\n",
       "       [  4,   3,   1, 251],\n",
       "       [  2,   5,   1, 163],\n",
       "       [  4,   5,   1, 184],\n",
       "       [  2,   7,   1,  89],\n",
       "       [  1,   6,   1, 368],\n",
       "       [  6,   5,   1, 291],\n",
       "       [  1,   2,   1, 138],\n",
       "       [  4,   2,   1, 434],\n",
       "       [ 15,   1,   1,  16],\n",
       "       [  1,   5,   1, 146],\n",
       "       [  1,   9,   1,   2],\n",
       "       [  8,   2,   1,  37],\n",
       "       [  1,   5,   1, 448],\n",
       "       [  3,   1,   1,  20],\n",
       "       [  1,   3,   1, 207],\n",
       "       [  3,   1,   1,  51],\n",
       "       [  2,   5,   1,   3],\n",
       "       [  8,   2,   1, 165],\n",
       "       [  7,   2,   1,  51],\n",
       "       [  2,   5,   1,  83],\n",
       "       [  1,   2,   1,   9],\n",
       "       [  1,   8,   1,  15],\n",
       "       [  4,   5,   1, 109],\n",
       "       [  5,   1,   1,  63],\n",
       "       [  1,   5,   1, 187],\n",
       "       [  1,   2,   1,  88],\n",
       "       [  1,   6,   1,  81],\n",
       "       [  4,   3,   1, 238],\n",
       "       [  1,   6,   1, 136],\n",
       "       [  6,   1,   1,  16],\n",
       "       [  6,   2,   1,  69],\n",
       "       [ 11,   1,   1,   6],\n",
       "       [  1,   2,   1,  32],\n",
       "       [ 10,   1,   1,  62],\n",
       "       [  2,  11,   1, 198],\n",
       "       [  3,   1,   1, 220],\n",
       "       [  2,   8,   1, 431],\n",
       "       [  1,   7,   1,  71],\n",
       "       [  3,   6,   1, 229],\n",
       "       [  2,   8,   1,   6],\n",
       "       [ 11,  26,   1,  56],\n",
       "       [  1,   5,   1,  50],\n",
       "       [  2,   1,   1, 116],\n",
       "       [  1,   4,   1,  23],\n",
       "       [  3,   9,   1,  10],\n",
       "       [  3,  12,   1, 209],\n",
       "       [  5,   3,   1,  20],\n",
       "       [  1,   2,   1, 330],\n",
       "       [  1,   3,   1, 212],\n",
       "       [  3,   1,   1,  67],\n",
       "       [  6,   2,   1, 158],\n",
       "       [  2,   3,   1, 414],\n",
       "       [  1,   6,   1,  99],\n",
       "       [  7,   1,   1,  24],\n",
       "       [  3,   1,   1,  13],\n",
       "       [  2,  14,   1,   5],\n",
       "       [  2,   7,   1, 143],\n",
       "       [  3,   2,   1, 219],\n",
       "       [  4,   6,   1, 147],\n",
       "       [  1,   2,   1, 312],\n",
       "       [  7,   1,   1,  89],\n",
       "       [  2,   4,   1,  82],\n",
       "       [  1,   9,   1, 170],\n",
       "       [  4,   1,   1,  75],\n",
       "       [  9,   2,   1, 124],\n",
       "       [  2,   1,   1, 185],\n",
       "       [  7,   5,   1, 224],\n",
       "       [  2,   1,   1, 127],\n",
       "       [  4,   1,   1, 233],\n",
       "       [  3,   8,   1, 247],\n",
       "       [  4,   1,   1, 345],\n",
       "       [  1,   6,   1, 135],\n",
       "       [  2,   3,   1,  61]])"
      ]
     },
     "execution_count": 5,
     "metadata": {},
     "output_type": "execute_result"
    }
   ],
   "source": [
    "def MinHash(matrix,k):\n",
    "    signature = []\n",
    "    for i in range(0,k):\n",
    "        currentSignature = []\n",
    "        np.random.shuffle(matrix)\n",
    "        for currDocument in range(1,matrix.shape[1]):\n",
    "            \n",
    "            for index in range(0,len(matrix)):\n",
    "                value = matrix[index][currDocument]\n",
    "                if value != 0:\n",
    "                    currentSignature.append(index + 1)\n",
    "                    break;\n",
    "        signature.append(currentSignature)\n",
    "    return np.array(signature)\n",
    "signatures = MinHash(matrix,100)\n",
    "signatures"
   ]
  },
  {
   "cell_type": "code",
   "execution_count": 6,
   "metadata": {},
   "outputs": [],
   "source": [
    "def jaccardApproximation(signature1, signature2):\n",
    "    return np.sum(signature1== signature2)/signature1.shape[0]"
   ]
  },
  {
   "cell_type": "code",
   "execution_count": 7,
   "metadata": {},
   "outputs": [
    {
     "data": {
      "text/plain": [
       "array([[  1,  12,   1, 111],\n",
       "       [  3,   1,   1,  84],\n",
       "       [  2,   3,   1,   4],\n",
       "       [  2,   4,   1, 627],\n",
       "       [  3,   4,   1,  70]])"
      ]
     },
     "execution_count": 7,
     "metadata": {},
     "output_type": "execute_result"
    }
   ],
   "source": [
    "signatures[:5]"
   ]
  },
  {
   "cell_type": "code",
   "execution_count": 9,
   "metadata": {},
   "source": [
    "def compareSignatures(signatures, threshold):\n",
    "    for i in range(0,signatures.shape[1]):\n",
    "        for k in range(i+1,signatures.shape[1]):\n",
    "            jaccardSimilarity = jaccardApproximation(signatures[:,i],signatures[:,k])\n",
    "            if jaccardSimilarity > threshold:\n",
    "                print(\"Found two similar documents:\",all_documents[i],all_documents[k],\n",
    "                     \"Similarity:\", jaccardSimilarity)\n",
    "compareSignatures(signatures, 0.8)"
   ]
  },
  {
   "cell_type": "code",
   "execution_count": null,
   "metadata": {},
   "outputs": [],
   "source": []
  }
 ],
 "metadata": {
  "kernelspec": {
   "display_name": "Python 3",
   "language": "python",
   "name": "python3"
  },
  "language_info": {
   "codemirror_mode": {
    "name": "ipython",
    "version": 3
   },
   "file_extension": ".py",
   "mimetype": "text/x-python",
   "name": "python",
   "nbconvert_exporter": "python",
   "pygments_lexer": "ipython3",
   "version": "3.8.3"
  }
 },
 "nbformat": 4,
 "nbformat_minor": 2
}
