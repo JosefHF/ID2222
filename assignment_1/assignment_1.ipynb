{
 "cells": [
  {
   "cell_type": "code",
   "execution_count": null,
   "metadata": {},
   "outputs": [],
   "source": [
    "from pyspark import SparkContext, SparkConf\n",
    "from fnvhash import fnv1a_32\n",
    "\n",
    "#Configure pyspark\n",
    "conf = SparkConf().setMaster(\"local[*]\")\n",
    "sc = SparkContext(conf=conf)\n",
    "\n",
    "#Create rdds for documents\n",
    "document_1 = sc.textFile(\"titanic.csv\")\n",
    "document_2 = sc.textFile(\"titanic.csv\")\n",
    "\n",
    "#Set the value k (the length of the shingles); k-shingles\n",
    "k = 2"
   ]
  },
  {
   "cell_type": "code",
   "execution_count": null,
   "metadata": {},
   "outputs": [],
   "source": [
    "\n",
    "#Method that takes an rdd and returns an rdd of hashed shingles.\n",
    "def Shingling(document):\n",
    "    shingles = []\n",
    "    for i in range(0,len(document)-k+1):\n",
    "        currentShingle = document[i:i+k]\n",
    "        #Convert shingles to integer representation\n",
    "        hashed_shingle = fnv1a_32(str.encode(currentShingle))\n",
    "        #Append hashed value to list\n",
    "        shingles.append(hashed_shingle)\n",
    "    return set(shingles)\n",
    "\n",
    "#Method that takes two rdds and computes the Jaccard similarity\n",
    "def CompareSets(setA,setB):\n",
    "    union = sc.union([setA, setB]).count()\n",
    "    intersection = setA.intersection(setB).count()\n",
    "    return intersection/union\n"
   ]
  },
  {
   "cell_type": "code",
   "execution_count": null,
   "metadata": {},
   "outputs": [],
   "source": [
    "#Create hashed shinglings from documents\n",
    "rdd_shingles_document1 = document_1.map(Shingling).flatMap(lambda list: list).distinct()\n",
    "rdd_shingles_document2 = document_2.map(Shingling).flatMap(lambda list: list).distinct()\n",
    "\n",
    "#Get the Jaccard similarity\n",
    "CompareSets(rdd_shingles_document1,rdd_shingles_document2)"
   ]
  },
  {
   "cell_type": "code",
   "execution_count": null,
   "metadata": {},
   "outputs": [],
   "source": [
    "#union = sc.union([shingles_document1, shingles_document2]).distinct()\n",
    "hashedShingles1 = document_1.map(Shingling).flatMap(lambda list: list).collect()\n",
    "hashedShingles2 = document_2.map(Shingling).flatMap(lambda list: list).collect()\n",
    "def createMatrix(shingle):\n",
    "    if shingle in hashedShingles1 and shingle in hashedShingles2:\n",
    "        return (shingle,1,1)\n",
    "    if shingle in hashedShingles1 and shingle not in hashedShingles2:\n",
    "        return (shingle,1,0)\n",
    "    if shingle not in hashedShingles1 and shingle in hashedShingles2:\n",
    "        return (shingle,0,1)\n",
    "    else:\n",
    "        return (shingle,0,0)\n",
    "\n",
    "matrix = sc.union([rdd_shingles_document1, rdd_shingles_document2]).distinct().map(createMatrix)\n",
    "\n",
    "def removeZeros(s):\n",
    "    if s[1] == 1 or s[2] == 1:\n",
    "        return s\n",
    "    else:\n",
    "        return\n",
    "matrix = matrix.filter(lambda x: x[2] == 1 or x[1] == 1).collect()\n",
    "matrix"
   ]
  },
  {
   "cell_type": "code",
   "execution_count": null,
   "metadata": {},
   "outputs": [],
   "source": [
    "#def CompareSignatures(matrix):\n",
    "    \n",
    "#    return"
   ]
  },
  {
   "cell_type": "code",
   "execution_count": null,
   "metadata": {},
   "outputs": [],
   "source": []
  }
 ],
 "metadata": {
  "kernelspec": {
   "display_name": "Python 3",
   "language": "python",
   "name": "python3"
  },
  "language_info": {
   "codemirror_mode": {
    "name": "ipython",
    "version": 3
   },
   "file_extension": ".py",
   "mimetype": "text/x-python",
   "name": "python",
   "nbconvert_exporter": "python",
   "pygments_lexer": "ipython3",
   "version": "3.8.3"
  }
 },
 "nbformat": 4,
 "nbformat_minor": 2
}
