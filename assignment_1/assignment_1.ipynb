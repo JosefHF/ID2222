{
 "cells": [
  {
   "cell_type": "code",
   "execution_count": null,
   "metadata": {},
   "outputs": [],
   "source": [
    "from pyspark import SparkContext, SparkConf\n",
    "from fnvhash import fnv1a_32\n",
    "\n",
    "#Configure pyspark\n",
    "conf = SparkConf().setMaster(\"local[*]\")\n",
    "sc = SparkContext(conf=conf)\n",
    "\n",
    "#Create rdds for documents\n",
    "document_1 = sc.textFile(\"titanic.csv\")\n",
    "document_2 = sc.textFile(\"car.data\")\n",
    "\n",
    "#Set the value k (the length of the shingles); k-shingles\n",
    "k = 2"
   ]
  },
  {
   "cell_type": "code",
   "execution_count": null,
   "metadata": {},
   "outputs": [],
   "source": [
    "\n",
    "#Method that takes an rdd and returns an rdd of hashed shingles.\n",
    "def Shingling(document):\n",
    "    shingles = []\n",
    "    for i in range(0,len(document)-k+1):\n",
    "        currentShingle = document[i:i+k]\n",
    "        #Convert shingles to integer representation\n",
    "        hashed_shingle = fnv1a_32(str.encode(currentShingle))\n",
    "        #Append hashed value to list\n",
    "        shingles.append(hashed_shingle)\n",
    "    return set(shingles)\n",
    "\n",
    "#Method that takes two rdds and computes the Jaccard similarity\n",
    "def CompareSets(setA,setB):\n",
    "    union = sc.union([shingles_document1, shingles_document2]).count()\n",
    "    intersection = shingles_document1.intersection(shingles_document2).count()\n",
    "    return intersection/union\n",
    "\n",
    "\n",
    "#def MinHashing():\n",
    "    \n",
    "#    return\n",
    "\n",
    "#def CompareSignatures():\n",
    "    \n",
    "#    return"
   ]
  },
  {
   "cell_type": "code",
   "execution_count": null,
   "metadata": {},
   "outputs": [],
   "source": [
    "#Create hashed shinglings from documents\n",
    "shingles_document1 = document_1.map(Shingling).flatMap(lambda list: list)\n",
    "shingles_document2 = document_2.map(Shingling).flatMap(lambda list: list)\n",
    "\n",
    "#Get the Jaccard similarity\n",
    "CompareSets(shingles_document1,shingles_document2)"
   ]
  },
  {
   "cell_type": "code",
   "execution_count": null,
   "metadata": {},
   "outputs": [],
   "source": []
  },
  {
   "cell_type": "code",
   "execution_count": null,
   "metadata": {},
   "outputs": [],
   "source": []
  },
  {
   "cell_type": "code",
   "execution_count": null,
   "metadata": {},
   "outputs": [],
   "source": []
  }
 ],
 "metadata": {
  "kernelspec": {
   "display_name": "Python 3",
   "language": "python",
   "name": "python3"
  },
  "language_info": {
   "codemirror_mode": {
    "name": "ipython",
    "version": 3
   },
   "file_extension": ".py",
   "mimetype": "text/x-python",
   "name": "python",
   "nbconvert_exporter": "python",
   "pygments_lexer": "ipython3",
   "version": "3.8.3"
  }
 },
 "nbformat": 4,
 "nbformat_minor": 2
}
