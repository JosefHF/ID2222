{
 "cells": [
  {
   "cell_type": "code",
   "execution_count": null,
   "metadata": {},
   "outputs": [],
   "source": [
    "from pyspark import SparkContext, SparkConf\n",
    "\n",
    "conf = SparkConf().setMaster(\"local[*]\")\n",
    "sc = SparkContext(conf=conf)"
   ]
  },
  {
   "cell_type": "code",
   "execution_count": null,
   "metadata": {},
   "outputs": [],
   "source": [
    "class Shingling():\n",
    "    shinglings = []\n",
    "    rdd = []\n",
    "    k = 2\n",
    "    \n",
    "    def __init__(self, document, k):\n",
    "        self.rdd = sc.textFile(document)\n",
    "        self.k = k\n",
    "        self.shinglings = self.rdd.map(Shingling.createShinglings(self)).flatMap(lambda list: list).collect()\n",
    "\n",
    "    @staticmethod\n",
    "    def createShinglings(Shingling):\n",
    "        k = Shingling.k\n",
    "        def _createShinglings(document):\n",
    "            shingles = []\n",
    "            for i in range(0,len(document)-k+1):\n",
    "                currentShingle = document[i:i+k]\n",
    "                shingles.append(currentShingle)\n",
    "            return shingles\n",
    "        return _createShinglings\n",
    "    def getShinglings(self):\n",
    "        return set(self.shinglings)\n",
    "\n",
    "document1 = Shingling('titanic.csv',3)\n",
    "document1.getShinglings()"
   ]
  },
  {
   "cell_type": "code",
   "execution_count": null,
   "metadata": {},
   "outputs": [],
   "source": [
    "def Shingling(document, k):\n",
    "    shingles = []\n",
    "    shingles_hashed = []\n",
    "    for i in range(0,len(document)):\n",
    "        if i != len(document)-1:\n",
    "            x = document[i:i+k]\n",
    "            x = x.lower()\n",
    "            if x not in shingles:\n",
    "                shingles.append(x)\n",
    "                shingles_hashed.append(hash(x))\n",
    "        else:\n",
    "            continue\n",
    "    return shingles#,shingles_hashed\n",
    "\n",
    "#shingles, shingles_hashed = Shingling(, 2)\n",
    "\n",
    "def testfunc(s):\n",
    "    return Shingling(s, 3)\n",
    "\n",
    "rdd = sc.textFile(\"titanic.csv\")\n",
    "x = rdd.map(testfunc).flatMap(lambda list: list).collect()\n",
    "x\n",
    "\n",
    "#def CompareSets(setA,setB):\n",
    "\n",
    "#    return\n",
    "\n",
    "#def MinHashing():\n",
    "    \n",
    "#    return\n",
    "\n",
    "#def CompareSignatures():\n",
    "    \n",
    "#    return"
   ]
  },
  {
   "cell_type": "code",
   "execution_count": null,
   "metadata": {},
   "outputs": [],
   "source": []
  },
  {
   "cell_type": "code",
   "execution_count": null,
   "metadata": {},
   "outputs": [],
   "source": []
  }
 ],
 "metadata": {
  "kernelspec": {
   "display_name": "Python 3",
   "language": "python",
   "name": "python3"
  },
  "language_info": {
   "codemirror_mode": {
    "name": "ipython",
    "version": 3
   },
   "file_extension": ".py",
   "mimetype": "text/x-python",
   "name": "python",
   "nbconvert_exporter": "python",
   "pygments_lexer": "ipython3",
   "version": "3.8.3"
  }
 },
 "nbformat": 4,
 "nbformat_minor": 2
}
